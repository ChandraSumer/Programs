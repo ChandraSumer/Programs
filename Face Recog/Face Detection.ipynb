{
 "cells": [
  {
   "cell_type": "code",
   "execution_count": 8,
   "metadata": {},
   "outputs": [
    {
     "ename": "SyntaxError",
     "evalue": "invalid syntax (<ipython-input-8-bba9400e40af>, line 7)",
     "output_type": "error",
     "traceback": [
      "\u001b[0;36m  File \u001b[0;32m\"<ipython-input-8-bba9400e40af>\"\u001b[0;36m, line \u001b[0;32m7\u001b[0m\n\u001b[0;31m    f.detectMultiScale(photo) \"\"\"will give the coordinates of the face which it detects\"\"\"\u001b[0m\n\u001b[0m                                                                                         ^\u001b[0m\n\u001b[0;31mSyntaxError\u001b[0m\u001b[0;31m:\u001b[0m invalid syntax\n"
     ]
    }
   ],
   "source": [
    "#we will create a rectangle around a face. face detection\n",
    "import cv2\n",
    "x=cv2.VideoCapture(0)\n",
    "r,photo=x.read()\n",
    "cv2.waitKey()\n",
    "cv2.destroyAllWindows()\n",
    "f=cv2.CascadeClassifier(\"/Desktop/Untitled Folder/haarcascade_frontalface_default.xml\")\n",
    "f.detectMultiScale(photo) \"\"\"will give the coordinates of the face which it detects\"\"\"\n",
    "cv2.rectangle(photo,(x,y),(x1,y1),(0,255,0),5)\n",
    "\"\"\"isse pehle ke arguements were of the ace whihc we detected from the above funtion, now rectangle specs\"\"\"\n"
   ]
  },
  {
   "cell_type": "code",
   "execution_count": null,
   "metadata": {},
   "outputs": [],
   "source": []
  },
  {
   "cell_type": "code",
   "execution_count": null,
   "metadata": {},
   "outputs": [],
   "source": []
  }
 ],
 "metadata": {
  "kernelspec": {
   "display_name": "Python 3",
   "language": "python",
   "name": "python3"
  },
  "language_info": {
   "codemirror_mode": {
    "name": "ipython",
    "version": 3
   },
   "file_extension": ".py",
   "mimetype": "text/x-python",
   "name": "python",
   "nbconvert_exporter": "python",
   "pygments_lexer": "ipython3",
   "version": "3.6.5"
  }
 },
 "nbformat": 4,
 "nbformat_minor": 2
}
