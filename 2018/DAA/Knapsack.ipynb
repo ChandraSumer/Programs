{
 "cells": [
  {
   "cell_type": "code",
   "execution_count": 55,
   "metadata": {},
   "outputs": [
    {
     "name": "stdout",
     "output_type": "stream",
     "text": [
      "Enter the number of elements: 5\n",
      "Enter the max weight of the knapsack: 100\n",
      "Enter Value of the element: 20\n",
      "Enter weight of the element: 10\n",
      "Enter Value of the element: 30\n",
      "Enter weight of the element: 20\n",
      "Enter Value of the element: 66\n",
      "Enter weight of the element: 30\n",
      "Enter Value of the element: 40\n",
      "Enter weight of the element: 40\n",
      "Enter Value of the element: 60\n",
      "Enter weight of the element: 50\n",
      "135.0\n"
     ]
    }
   ],
   "source": [
    "n=int(input(\"Enter the number of elements: \"))\n",
    "maxweight=int(input(\"Enter the max weight of the knapsack: \"))\n",
    "elem=[]\n",
    "for i in range(0,n):\n",
    "    v=int(input(\"Enter Value of the element: \")) #value input\n",
    "    w=int(input(\"Enter weight of the element: \")) #weight input\n",
    "    r=v/w #ratio\n",
    "    elem.insert(i, [v,w,r])\n",
    "elem=sorted(elem,key=lambda x: x[2])\n",
    "currentw=0\n",
    "knapsackvalue=0\n",
    "remainingw=0\n",
    "for x in range(0,n):\n",
    "\tif(elem[x][1]+currentw<=maxweight):\n",
    "\t\tcurrentw=currentw+elem[x][1]\n",
    "\t\tknapsackvalue=knapsackvalue+elem[x][0]\n",
    "\telse:\n",
    "\t\tremainingw=maxweight-currentw\n",
    "\t\tknapsackvalue=knapsackvalue+(elem[x][0]*(remainingw/elem[x][1]))\n",
    "print(knapsackvalue)"
   ]
  },
  {
   "cell_type": "code",
   "execution_count": null,
   "metadata": {},
   "outputs": [],
   "source": []
  }
 ],
 "metadata": {
  "kernelspec": {
   "display_name": "Python 3",
   "language": "python",
   "name": "python3"
  },
  "language_info": {
   "codemirror_mode": {
    "name": "ipython",
    "version": 3
   },
   "file_extension": ".py",
   "mimetype": "text/x-python",
   "name": "python",
   "nbconvert_exporter": "python",
   "pygments_lexer": "ipython3",
   "version": "3.6.5"
  }
 },
 "nbformat": 4,
 "nbformat_minor": 2
}
