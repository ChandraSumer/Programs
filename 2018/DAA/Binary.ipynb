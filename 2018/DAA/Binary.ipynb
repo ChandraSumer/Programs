{
 "cells": [
  {
   "cell_type": "code",
   "execution_count": 3,
   "metadata": {},
   "outputs": [
    {
     "name": "stdout",
     "output_type": "stream",
     "text": [
      "Enter n: 9\n",
      "Enter Element to be searched: 45\n",
      "Element not present in the list. \n",
      "Duration: 0.010967254638671875  microseconds\n"
     ]
    }
   ],
   "source": [
    "import random\n",
    "import time\n",
    "def random1():\n",
    "\tn=int(input(\"Enter n: \"))\n",
    "\tlist=[random.randint(0,10000) for i in range(0,n)]\n",
    "\tbubblesort(list)\n",
    "def bubblesort(list):\n",
    "    n = len(list)\n",
    "    for i in range(n):\n",
    "        for j in range(0, n-i-1):\n",
    "            if list[j] > list[j+1] :\n",
    "                list[j], list[j+1] = list[j+1], list[j]\n",
    "    search=int(input(\"Enter Element to be searched: \"))\n",
    "    b_s(list,search)\n",
    "\n",
    "def b_s(list,search):\n",
    "    x=0\n",
    "    start=0\n",
    "    end=len(list)-1\n",
    "    start_time = time.time()\n",
    "    while start<end:\n",
    "        mid=int((start+end)/2)\n",
    "        if search==list[mid]:\n",
    "            x=1\n",
    "            break\n",
    "        elif search<list[mid]:\n",
    "            end=mid-1\n",
    "        elif search>list[mid]:\n",
    "            start=mid+1\n",
    "    end_time = time.time()\n",
    "    if x==0:\n",
    "        print(\"Element not present in the list. \")\n",
    "    else:\n",
    "        print(\"The element is at postion. \", mid)\n",
    "    print('Duration:',(end_time - start_time)*1000,' microseconds')\n",
    "random1()"
   ]
  },
  {
   "cell_type": "code",
   "execution_count": 2,
   "metadata": {},
   "outputs": [
    {
     "name": "stdout",
     "output_type": "stream",
     "text": [
      "1542878702.730932\n",
      "1542878702.736251\n",
      "Duration: 0.005319118499755859\n",
      "Element not present in the list\n"
     ]
    }
   ],
   "source": []
  },
  {
   "cell_type": "code",
   "execution_count": null,
   "metadata": {},
   "outputs": [],
   "source": []
  }
 ],
 "metadata": {
  "kernelspec": {
   "display_name": "Python 3",
   "language": "python",
   "name": "python3"
  },
  "language_info": {
   "codemirror_mode": {
    "name": "ipython",
    "version": 3
   },
   "file_extension": ".py",
   "mimetype": "text/x-python",
   "name": "python",
   "nbconvert_exporter": "python",
   "pygments_lexer": "ipython3",
   "version": "3.6.5"
  }
 },
 "nbformat": 4,
 "nbformat_minor": 2
}
