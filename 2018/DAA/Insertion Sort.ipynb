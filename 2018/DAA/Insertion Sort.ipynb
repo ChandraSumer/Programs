{
 "cells": [
  {
   "cell_type": "code",
   "execution_count": 2,
   "metadata": {},
   "outputs": [
    {
     "name": "stdout",
     "output_type": "stream",
     "text": [
      "Enter n: 9\n",
      "[94, 771, 1380, 2600, 2672, 6561, 7366, 8145, 8191]\n"
     ]
    }
   ],
   "source": [
    "import random\n",
    "import time\n",
    "def insertionsort(list):\n",
    "\tlen1=len(list)\n",
    "\tfor i in range(0,len1):\n",
    "\t\ttemp=list[i]\n",
    "\t\tj=i-1\n",
    "\t\twhile(j>=0 and temp<list[j]):\n",
    "\t\t\tlist[j+1]=list[j]\n",
    "\t\t\tlist[j]=temp\n",
    "\t\t\tj=j-1\n",
    "\tprint(list)\n",
    "def random1():\n",
    "    n=int(input(\"Enter n: \"))\n",
    "    list=[random.randint(0,10000) for i in range(0,n)]\n",
    "    start_time = time.time()\n",
    "\tinsertionsort(list)\n",
    "random1()"
   ]
  },
  {
   "cell_type": "code",
   "execution_count": null,
   "metadata": {},
   "outputs": [],
   "source": []
  }
 ],
 "metadata": {
  "kernelspec": {
   "display_name": "Python 3",
   "language": "python",
   "name": "python3"
  },
  "language_info": {
   "codemirror_mode": {
    "name": "ipython",
    "version": 3
   },
   "file_extension": ".py",
   "mimetype": "text/x-python",
   "name": "python",
   "nbconvert_exporter": "python",
   "pygments_lexer": "ipython3",
   "version": "3.6.5"
  }
 },
 "nbformat": 4,
 "nbformat_minor": 2
}
