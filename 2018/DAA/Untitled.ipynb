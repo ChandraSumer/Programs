{
 "cells": [
  {
   "cell_type": "code",
   "execution_count": 5,
   "metadata": {},
   "outputs": [
    {
     "name": "stdout",
     "output_type": "stream",
     "text": [
      "[0, 2, 8]\n",
      "[5, 7]\n",
      "[0, 5, 2, 7]\n"
     ]
    }
   ],
   "source": [
    "n=5\n",
    "list=[0,5,8,2,7]\n",
    "list1=[]\n",
    "list2=[]\n",
    "for x in range(0,n):\n",
    "    if (list[x]%2 == 0):\n",
    "        list1.append(list[x])\n",
    "    else:\n",
    "        list2.append(list[x])\n",
    "list1.sort()\n",
    "list2.sort()\n",
    "print(list1)\n",
    "print(list2)\n",
    "list=[]\n",
    "len1=len(list1)\n",
    "len2=len(list2)\n",
    "if(len1>len2):\n",
    "    n=len2\n",
    "else:\n",
    "    n=len1\n",
    "for x in range(0,n):\n",
    "    if(list1[x]>list2[x]):\n",
    "        list.append(list2[x])\n",
    "        list.append(list1[x])\n",
    "    else:\n",
    "        list.append(list1[x])\n",
    "        list.append(list2[x])\n",
    "print(list)"
   ]
  },
  {
   "cell_type": "code",
   "execution_count": null,
   "metadata": {},
   "outputs": [],
   "source": []
  }
 ],
 "metadata": {
  "kernelspec": {
   "display_name": "Python 3",
   "language": "python",
   "name": "python3"
  },
  "language_info": {
   "codemirror_mode": {
    "name": "ipython",
    "version": 3
   },
   "file_extension": ".py",
   "mimetype": "text/x-python",
   "name": "python",
   "nbconvert_exporter": "python",
   "pygments_lexer": "ipython3",
   "version": "3.6.5"
  }
 },
 "nbformat": 4,
 "nbformat_minor": 2
}
